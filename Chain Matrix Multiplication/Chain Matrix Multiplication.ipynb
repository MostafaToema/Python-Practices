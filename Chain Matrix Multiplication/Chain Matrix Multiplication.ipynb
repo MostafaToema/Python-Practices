{
 "cells": [
  {
   "cell_type": "markdown",
   "metadata": {
    "id": "N9MylupIyQgL"
   },
   "source": [
    "## Using Dynamic Programming"
   ]
  },
  {
   "cell_type": "code",
   "execution_count": 1,
   "metadata": {
    "executionInfo": {
     "elapsed": 60,
     "status": "ok",
     "timestamp": 1627045034991,
     "user": {
      "displayName": "Mostafa Saleh",
      "photoUrl": "https://lh3.googleusercontent.com/a-/AOh14GhsluIfaJLuZDrUwtbRFqYrV07c9I3bkbomTfEF6Q=s64",
      "userId": "10579162633432800721"
     },
     "user_tz": -120
    },
    "id": "VwmAaemOdgQY"
   },
   "outputs": [],
   "source": [
    "import numpy as np"
   ]
  },
  {
   "cell_type": "code",
   "execution_count": 2,
   "metadata": {
    "executionInfo": {
     "elapsed": 59,
     "status": "ok",
     "timestamp": 1627045034995,
     "user": {
      "displayName": "Mostafa Saleh",
      "photoUrl": "https://lh3.googleusercontent.com/a-/AOh14GhsluIfaJLuZDrUwtbRFqYrV07c9I3bkbomTfEF6Q=s64",
      "userId": "10579162633432800721"
     },
     "user_tz": -120
    },
    "id": "Tr7mG1GDbLUP"
   },
   "outputs": [],
   "source": [
    "A = [[1, 8, 9, 2],\n",
    "    [7, 6, -1, 5],\n",
    "    [5, 5, 6, 3],\n",
    "    [2, 4, 5, 6],\n",
    "    [1, -1, 2, 5]]\n",
    "\n",
    "B = [[1, 8, 8, 6, 4, 1],\n",
    "    [7, 6, 2, 3, 4, 6],\n",
    "    [5, 5, 4, 3, -1, 4],\n",
    "    [1, 3, -4, 4, 7, 6]]\n",
    "\n",
    "C = [[1, 8],\n",
    "    [7, 6],\n",
    "    [5, 5],\n",
    "    [2, 4],\n",
    "    [1, 2],\n",
    "    [2, 5]]\n",
    "\n",
    "D = [[1, 8, 8, 1, 5, 6, -1],\n",
    "    [7, 6, 1, 2, 3, -2, 1]]"
   ]
  },
  {
   "cell_type": "code",
   "execution_count": 3,
   "metadata": {
    "executionInfo": {
     "elapsed": 59,
     "status": "ok",
     "timestamp": 1627045034998,
     "user": {
      "displayName": "Mostafa Saleh",
      "photoUrl": "https://lh3.googleusercontent.com/a-/AOh14GhsluIfaJLuZDrUwtbRFqYrV07c9I3bkbomTfEF6Q=s64",
      "userId": "10579162633432800721"
     },
     "user_tz": -120
    },
    "id": "AofwOUkVo4B9"
   },
   "outputs": [],
   "source": [
    "AllMat = [A, B, C, D]"
   ]
  },
  {
   "cell_type": "code",
   "execution_count": 4,
   "metadata": {
    "executionInfo": {
     "elapsed": 59,
     "status": "ok",
     "timestamp": 1627045035001,
     "user": {
      "displayName": "Mostafa Saleh",
      "photoUrl": "https://lh3.googleusercontent.com/a-/AOh14GhsluIfaJLuZDrUwtbRFqYrV07c9I3bkbomTfEF6Q=s64",
      "userId": "10579162633432800721"
     },
     "user_tz": -120
    },
    "id": "hnkM6fJ_yre7"
   },
   "outputs": [],
   "source": [
    "noOfMatrix = 4\n",
    "costs = np.zeros((noOfMatrix+1, noOfMatrix+1))\n",
    "noOfk = np.zeros((noOfMatrix+1, noOfMatrix+1), dtype = int)\n",
    "dim = [len(AllMat[0]), len(AllMat[1]), len(AllMat[2]), len(AllMat[3]), len(AllMat[3][0])]"
   ]
  },
  {
   "cell_type": "code",
   "execution_count": 5,
   "metadata": {
    "colab": {
     "base_uri": "https://localhost:8080/"
    },
    "executionInfo": {
     "elapsed": 58,
     "status": "ok",
     "timestamp": 1627045035003,
     "user": {
      "displayName": "Mostafa Saleh",
      "photoUrl": "https://lh3.googleusercontent.com/a-/AOh14GhsluIfaJLuZDrUwtbRFqYrV07c9I3bkbomTfEF6Q=s64",
      "userId": "10579162633432800721"
     },
     "user_tz": -120
    },
    "id": "HWM9U0mYcNHb",
    "outputId": "0f9fd552-969d-4b98-8bdc-cad8e7182260"
   },
   "outputs": [
    {
     "data": {
      "text/plain": [
       "[5, 4, 6, 2, 7]"
      ]
     },
     "execution_count": 5,
     "metadata": {},
     "output_type": "execute_result"
    }
   ],
   "source": [
    "dim"
   ]
  },
  {
   "cell_type": "code",
   "execution_count": 6,
   "metadata": {
    "colab": {
     "base_uri": "https://localhost:8080/"
    },
    "id": "h_CDRPqzc6Yy",
    "outputId": "6fad29cf-0936-4e21-a879-c5ede75fdc51"
   },
   "outputs": [
    {
     "name": "stdin",
     "output_type": "stream",
     "text": [
      " \n"
     ]
    },
    {
     "name": "stdout",
     "output_type": "stream",
     "text": [
      "[120.0]\n",
      "----------------------------\n",
      "[[  0.   0.   0.   0.   0.]\n",
      " [  0.   0. 120.   0.   0.]\n",
      " [  0.   0.   0.   0.   0.]\n",
      " [  0.   0.   0.   0.   0.]\n",
      " [  0.   0.   0.   0.   0.]]\n",
      "****************************\n"
     ]
    },
    {
     "name": "stdin",
     "output_type": "stream",
     "text": [
      " \n"
     ]
    },
    {
     "name": "stdout",
     "output_type": "stream",
     "text": [
      "[48.0]\n",
      "----------------------------\n",
      "[[  0.   0.   0.   0.   0.]\n",
      " [  0.   0. 120.   0.   0.]\n",
      " [  0.   0.   0.  48.   0.]\n",
      " [  0.   0.   0.   0.   0.]\n",
      " [  0.   0.   0.   0.   0.]]\n",
      "****************************\n"
     ]
    },
    {
     "name": "stdin",
     "output_type": "stream",
     "text": [
      " \n"
     ]
    },
    {
     "name": "stdout",
     "output_type": "stream",
     "text": [
      "[84.0]\n",
      "----------------------------\n",
      "[[  0.   0.   0.   0.   0.]\n",
      " [  0.   0. 120.   0.   0.]\n",
      " [  0.   0.   0.  48.   0.]\n",
      " [  0.   0.   0.   0.  84.]\n",
      " [  0.   0.   0.   0.   0.]]\n",
      "****************************\n"
     ]
    },
    {
     "name": "stdin",
     "output_type": "stream",
     "text": [
      " \n"
     ]
    },
    {
     "name": "stdout",
     "output_type": "stream",
     "text": [
      "[88.0, 180.0]\n",
      "----------------------------\n",
      "[[  0.   0.   0.   0.   0.]\n",
      " [  0.   0. 120.  88.   0.]\n",
      " [  0.   0.   0.  48.   0.]\n",
      " [  0.   0.   0.   0.  84.]\n",
      " [  0.   0.   0.   0.   0.]]\n",
      "****************************\n"
     ]
    },
    {
     "name": "stdin",
     "output_type": "stream",
     "text": [
      " \n"
     ]
    },
    {
     "name": "stdout",
     "output_type": "stream",
     "text": [
      "[252.0, 104.0]\n",
      "----------------------------\n",
      "[[  0.   0.   0.   0.   0.]\n",
      " [  0.   0. 120.  88.   0.]\n",
      " [  0.   0.   0.  48. 104.]\n",
      " [  0.   0.   0.   0.  84.]\n",
      " [  0.   0.   0.   0.   0.]]\n",
      "****************************\n"
     ]
    },
    {
     "name": "stdin",
     "output_type": "stream",
     "text": [
      " \n"
     ]
    },
    {
     "name": "stdout",
     "output_type": "stream",
     "text": [
      "[244.0, 414.0, 158.0]\n",
      "----------------------------\n",
      "[[  0.   0.   0.   0.   0.]\n",
      " [  0.   0. 120.  88. 158.]\n",
      " [  0.   0.   0.  48. 104.]\n",
      " [  0.   0.   0.   0.  84.]\n",
      " [  0.   0.   0.   0.   0.]]\n",
      "****************************\n"
     ]
    }
   ],
   "source": [
    "for diff in range(1, noOfMatrix):\n",
    "    for i in range(1, noOfMatrix - diff + 1):\n",
    "        input()\n",
    "        j = i + diff\n",
    "        min = 1e10\n",
    "        temp = []\n",
    "        for k in range(i, j):\n",
    "            tmp = costs[i][k] + costs[k+1][j] + dim[i-1]*dim[k]*dim[j]\n",
    "            temp.append(tmp)\n",
    "            if tmp < min:\n",
    "                min = tmp\n",
    "                noOfk[i][j] = k\n",
    "        costs[i][j] = min\n",
    "        print(temp)\n",
    "        print(\"----------------------------\")\n",
    "        print(costs)\n",
    "        print(\"****************************\")"
   ]
  },
  {
   "cell_type": "code",
   "execution_count": 7,
   "metadata": {
    "id": "81rTUD_kpGtw"
   },
   "outputs": [
    {
     "data": {
      "text/plain": [
       "array([[  0.,   0.,   0.,   0.,   0.],\n",
       "       [  0.,   0., 120.,  88., 158.],\n",
       "       [  0.,   0.,   0.,  48., 104.],\n",
       "       [  0.,   0.,   0.,   0.,  84.],\n",
       "       [  0.,   0.,   0.,   0.,   0.]])"
      ]
     },
     "execution_count": 7,
     "metadata": {},
     "output_type": "execute_result"
    }
   ],
   "source": [
    "costs"
   ]
  },
  {
   "cell_type": "code",
   "execution_count": 8,
   "metadata": {
    "id": "3lzHBArOpta0"
   },
   "outputs": [
    {
     "data": {
      "text/plain": [
       "array([[0, 0, 0, 0, 0],\n",
       "       [0, 0, 1, 1, 3],\n",
       "       [0, 0, 0, 2, 3],\n",
       "       [0, 0, 0, 0, 3],\n",
       "       [0, 0, 0, 0, 0]])"
      ]
     },
     "execution_count": 8,
     "metadata": {},
     "output_type": "execute_result"
    }
   ],
   "source": [
    "noOfk"
   ]
  },
  {
   "cell_type": "code",
   "execution_count": 9,
   "metadata": {
    "id": "-F8ASb1hGSqL"
   },
   "outputs": [],
   "source": [
    "def mulArray(a1, a2):\n",
    "    arr1 = np.array(a1)\n",
    "    arr2 = np.array(a2)\n",
    "    arrResult = np.zeros((arr1.shape[0], arr2.shape[1]))\n",
    "    for i in range(arrResult.shape[0]):\n",
    "        for j in range(arrResult.shape[1]):\n",
    "            for k in range(arr1.shape[1]):\n",
    "                arrResult[i][j] += arr1[i][k] * arr2[k][j]\n",
    "    return arrResult"
   ]
  },
  {
   "cell_type": "code",
   "execution_count": 10,
   "metadata": {
    "id": "B1rxarQD6tJA"
   },
   "outputs": [],
   "source": [
    "def ChainMatMul(listOfMat, k, i, j):\n",
    "    if i < j:\n",
    "        left = ChainMatMul(listOfMat, k, i, k[i][j]) \n",
    "        right = ChainMatMul(listOfMat, k, k[i][j]+1, j)\n",
    "  \n",
    "        return mulArray(left, right)\n",
    "    else:\n",
    "        return listOfMat[i-1]"
   ]
  },
  {
   "cell_type": "code",
   "execution_count": 11,
   "metadata": {
    "id": "MMj4rYol7YiV"
   },
   "outputs": [
    {
     "data": {
      "text/plain": [
       "array([[19405., 27190., 14385.,  6600., 15073.,  3746.,  1083.],\n",
       "       [15734., 23222., 12957.,  5469., 12974.,  4072.,   690.],\n",
       "       [17906., 26098., 14383.,  6191., 14554.,  4344.,   838.],\n",
       "       [14183., 19964., 10614.,  4833., 11075.,  2818.,   777.],\n",
       "       [ 4182.,  5906.,  3151.,  1427.,  3278.,   848.,   226.]])"
      ]
     },
     "execution_count": 11,
     "metadata": {},
     "output_type": "execute_result"
    }
   ],
   "source": [
    "ChainMatMul(AllMat, noOfk, 1, noOfMatrix)"
   ]
  },
  {
   "cell_type": "code",
   "execution_count": 12,
   "metadata": {
    "id": "v5mHJqPJIujf"
   },
   "outputs": [
    {
     "data": {
      "text/plain": [
       "array([[19405., 27190., 14385.,  6600., 15073.,  3746.,  1083.],\n",
       "       [15734., 23222., 12957.,  5469., 12974.,  4072.,   690.],\n",
       "       [17906., 26098., 14383.,  6191., 14554.,  4344.,   838.],\n",
       "       [14183., 19964., 10614.,  4833., 11075.,  2818.,   777.],\n",
       "       [ 4182.,  5906.,  3151.,  1427.,  3278.,   848.,   226.]])"
      ]
     },
     "execution_count": 12,
     "metadata": {},
     "output_type": "execute_result"
    }
   ],
   "source": [
    "mulArray(mulArray(mulArray(A, B), C), D)"
   ]
  },
  {
   "cell_type": "code",
   "execution_count": 13,
   "metadata": {
    "id": "ybxxZBDkTPPZ"
   },
   "outputs": [],
   "source": [
    "def ChainMatMulPrant(listOfMat, k, i, j):\n",
    "    if i < j:\n",
    "        left = ChainMatMulPrant(listOfMat, k, i, k[i][j]) \n",
    "        right = ChainMatMulPrant(listOfMat, k, k[i][j]+1, j)\n",
    "  \n",
    "        print(\"(\" + str(left) +\",\"+ str(right) + \")\")\n",
    "        print(\"--------------------\")\n",
    "        return \"(\" + left +\",\"+ right + \")\"\n",
    "    else:\n",
    "        return listOfMat[i-1]"
   ]
  },
  {
   "cell_type": "code",
   "execution_count": 14,
   "metadata": {
    "id": "_e3SXRGPTY58"
   },
   "outputs": [],
   "source": [
    "lis = [\"A\", \"B\", \"C\", \"D\"]"
   ]
  },
  {
   "cell_type": "code",
   "execution_count": 15,
   "metadata": {
    "id": "YuaDYD1xTWmW"
   },
   "outputs": [
    {
     "name": "stdout",
     "output_type": "stream",
     "text": [
      "(B,C)\n",
      "--------------------\n",
      "(A,(B,C))\n",
      "--------------------\n",
      "((A,(B,C)),D)\n",
      "--------------------\n"
     ]
    },
    {
     "data": {
      "text/plain": [
       "'((A,(B,C)),D)'"
      ]
     },
     "execution_count": 15,
     "metadata": {},
     "output_type": "execute_result"
    }
   ],
   "source": [
    "ChainMatMulPrant(lis, noOfk, 1, 4)"
   ]
  }
 ],
 "metadata": {
  "colab": {
   "collapsed_sections": [],
   "name": "Chain Matrix Multiplication.ipynb",
   "provenance": []
  },
  "kernelspec": {
   "display_name": "Python 3 (ipykernel)",
   "language": "python",
   "name": "python3"
  },
  "language_info": {
   "codemirror_mode": {
    "name": "ipython",
    "version": 3
   },
   "file_extension": ".py",
   "mimetype": "text/x-python",
   "name": "python",
   "nbconvert_exporter": "python",
   "pygments_lexer": "ipython3",
   "version": "3.8.10"
  }
 },
 "nbformat": 4,
 "nbformat_minor": 4
}
